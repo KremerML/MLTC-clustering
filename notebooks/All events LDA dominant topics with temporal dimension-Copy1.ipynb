{
 "cells": [
  {
   "cell_type": "code",
   "execution_count": 7,
   "id": "22a5ecdb",
   "metadata": {},
   "outputs": [],
   "source": [
    "import pandas as pd\n",
    "import numpy as np\n",
    "\n",
    "import matplotlib.colors as mcolors\n",
    "from matplotlib import pyplot as plt\n",
    "%matplotlib inline\n",
    "\n",
    "from dateutil.relativedelta import *\n",
    "from datetime import datetime\n",
    "\n",
    "# Progress bar\n",
    "from tqdm.notebook import tqdm\n",
    "\n",
    "import warnings\n",
    "warnings.filterwarnings(\"ignore\", category=DeprecationWarning)\n",
    "\n",
    "import pprint\n",
    "pp = pprint.PrettyPrinter(indent=4)\n",
    "\n",
    "\n",
    "LTC_BINARY = '../data/ltc_events_all_patients_ukbb45840.tsv'"
   ]
  },
  {
   "cell_type": "code",
   "execution_count": 8,
   "id": "e19a810d",
   "metadata": {
    "scrolled": true
   },
   "outputs": [
    {
     "data": {
      "text/html": [
       "<div>\n",
       "<style scoped>\n",
       "    .dataframe tbody tr th:only-of-type {\n",
       "        vertical-align: middle;\n",
       "    }\n",
       "\n",
       "    .dataframe tbody tr th {\n",
       "        vertical-align: top;\n",
       "    }\n",
       "\n",
       "    .dataframe thead th {\n",
       "        text-align: right;\n",
       "    }\n",
       "</style>\n",
       "<table border=\"1\" class=\"dataframe\">\n",
       "  <thead>\n",
       "    <tr style=\"text-align: right;\">\n",
       "      <th></th>\n",
       "      <th>patient_id</th>\n",
       "      <th>event_date</th>\n",
       "      <th>LTC_abbrev</th>\n",
       "    </tr>\n",
       "  </thead>\n",
       "  <tbody>\n",
       "    <tr>\n",
       "      <th>0</th>\n",
       "      <td>1000014</td>\n",
       "      <td>2004-09-06</td>\n",
       "      <td>PMR</td>\n",
       "    </tr>\n",
       "    <tr>\n",
       "      <th>1</th>\n",
       "      <td>1000014</td>\n",
       "      <td>2011-12-07</td>\n",
       "      <td>glaucoma</td>\n",
       "    </tr>\n",
       "    <tr>\n",
       "      <th>2</th>\n",
       "      <td>1000059</td>\n",
       "      <td>1995-10-27</td>\n",
       "      <td>OA</td>\n",
       "    </tr>\n",
       "    <tr>\n",
       "      <th>3</th>\n",
       "      <td>1000059</td>\n",
       "      <td>1998-01-09</td>\n",
       "      <td>OA</td>\n",
       "    </tr>\n",
       "    <tr>\n",
       "      <th>4</th>\n",
       "      <td>1000059</td>\n",
       "      <td>1999-05-24</td>\n",
       "      <td>OA</td>\n",
       "    </tr>\n",
       "    <tr>\n",
       "      <th>5</th>\n",
       "      <td>1000059</td>\n",
       "      <td>2002-01-08</td>\n",
       "      <td>skin_ulcer</td>\n",
       "    </tr>\n",
       "    <tr>\n",
       "      <th>6</th>\n",
       "      <td>1000059</td>\n",
       "      <td>2002-01-08</td>\n",
       "      <td>dermatitis</td>\n",
       "    </tr>\n",
       "    <tr>\n",
       "      <th>7</th>\n",
       "      <td>1000059</td>\n",
       "      <td>2005-07-10</td>\n",
       "      <td>erectile_dysfunction</td>\n",
       "    </tr>\n",
       "    <tr>\n",
       "      <th>8</th>\n",
       "      <td>1000059</td>\n",
       "      <td>2011-02-24</td>\n",
       "      <td>OA</td>\n",
       "    </tr>\n",
       "    <tr>\n",
       "      <th>9</th>\n",
       "      <td>1000059</td>\n",
       "      <td>2011-03-14</td>\n",
       "      <td>OA</td>\n",
       "    </tr>\n",
       "  </tbody>\n",
       "</table>\n",
       "</div>"
      ],
      "text/plain": [
       "   patient_id event_date            LTC_abbrev\n",
       "0     1000014 2004-09-06                   PMR\n",
       "1     1000014 2011-12-07              glaucoma\n",
       "2     1000059 1995-10-27                    OA\n",
       "3     1000059 1998-01-09                    OA\n",
       "4     1000059 1999-05-24                    OA\n",
       "5     1000059 2002-01-08            skin_ulcer\n",
       "6     1000059 2002-01-08            dermatitis\n",
       "7     1000059 2005-07-10  erectile_dysfunction\n",
       "8     1000059 2011-02-24                    OA\n",
       "9     1000059 2011-03-14                    OA"
      ]
     },
     "execution_count": 8,
     "metadata": {},
     "output_type": "execute_result"
    }
   ],
   "source": [
    "ltc_patients = pd.read_csv(LTC_BINARY,sep = '\\t',  parse_dates=['event_date'])\n",
    "\n",
    "\n",
    "LTC_list = ltc_patients[[\"LTC\", \"LTC_abbrev\"]].drop_duplicates()\n",
    "pd.DataFrame(LTC_list).to_csv('../data/List_of_LTCs.csv', index=False)\n",
    "\n",
    "\n",
    "ltc_patients.drop(labels=['read_2',\n",
    "                          'age_at_event',\n",
    "                          'YOB', 'sex', \n",
    "                          'count_per_LTC', \n",
    "                          'count_distinct_LTC', \n",
    "                          'LTC'], \n",
    "                    axis=1, inplace=True)\n",
    "\n",
    "ltc_patients['LTC_abbrev'] = ltc_patients['LTC_abbrev'].astype(\"string\")\n",
    "\n",
    "ltc_patients.head(10)\n"
   ]
  },
  {
   "cell_type": "code",
   "execution_count": 9,
   "id": "547d8522",
   "metadata": {},
   "outputs": [
    {
     "name": "stdout",
     "output_type": "stream",
     "text": [
      "<class 'pandas.core.frame.DataFrame'>\n",
      "RangeIndex: 3110220 entries, 0 to 3110219\n",
      "Data columns (total 3 columns):\n",
      " #   Column      Dtype         \n",
      "---  ------      -----         \n",
      " 0   patient_id  int64         \n",
      " 1   event_date  datetime64[ns]\n",
      " 2   LTC_abbrev  string        \n",
      "dtypes: datetime64[ns](1), int64(1), string(1)\n",
      "memory usage: 71.2 MB\n"
     ]
    }
   ],
   "source": [
    "ltc_patients.info()"
   ]
  },
  {
   "cell_type": "code",
   "execution_count": 10,
   "id": "de9e035b",
   "metadata": {
    "scrolled": true
   },
   "outputs": [
    {
     "name": "stdout",
     "output_type": "stream",
     "text": [
      "210211\n",
      "3110220\n"
     ]
    }
   ],
   "source": [
    "print(len(ltc_patients['patient_id'].unique()))\n",
    "print(len(ltc_patients))"
   ]
  },
  {
   "cell_type": "code",
   "execution_count": 11,
   "id": "3c7955db",
   "metadata": {},
   "outputs": [
    {
     "data": {
      "text/plain": [
       "19"
      ]
     },
     "execution_count": 11,
     "metadata": {},
     "output_type": "execute_result"
    }
   ],
   "source": [
    "len(ltc_patients.loc[ltc_patients['event_date'] == max(ltc_patients['event_date'])])"
   ]
  },
  {
   "cell_type": "code",
   "execution_count": 12,
   "id": "eed21713",
   "metadata": {
    "scrolled": false
   },
   "outputs": [
    {
     "data": {
      "text/html": [
       "<div>\n",
       "<style scoped>\n",
       "    .dataframe tbody tr th:only-of-type {\n",
       "        vertical-align: middle;\n",
       "    }\n",
       "\n",
       "    .dataframe tbody tr th {\n",
       "        vertical-align: top;\n",
       "    }\n",
       "\n",
       "    .dataframe thead th {\n",
       "        text-align: right;\n",
       "    }\n",
       "</style>\n",
       "<table border=\"1\" class=\"dataframe\">\n",
       "  <thead>\n",
       "    <tr style=\"text-align: right;\">\n",
       "      <th></th>\n",
       "      <th>patient_id</th>\n",
       "      <th>event_date</th>\n",
       "      <th>LTC_abbrev</th>\n",
       "    </tr>\n",
       "  </thead>\n",
       "  <tbody>\n",
       "    <tr>\n",
       "      <th>58532</th>\n",
       "      <td>1095843</td>\n",
       "      <td>1989-07-03</td>\n",
       "      <td>alcohol_depend</td>\n",
       "    </tr>\n",
       "    <tr>\n",
       "      <th>58533</th>\n",
       "      <td>1095843</td>\n",
       "      <td>1992-06-02</td>\n",
       "      <td>seb_derm</td>\n",
       "    </tr>\n",
       "    <tr>\n",
       "      <th>58534</th>\n",
       "      <td>1095843</td>\n",
       "      <td>1992-05-13</td>\n",
       "      <td>seb_derm</td>\n",
       "    </tr>\n",
       "    <tr>\n",
       "      <th>58535</th>\n",
       "      <td>1095843</td>\n",
       "      <td>1998-06-05</td>\n",
       "      <td>irritable_bowel_syndrome</td>\n",
       "    </tr>\n",
       "    <tr>\n",
       "      <th>58536</th>\n",
       "      <td>1095843</td>\n",
       "      <td>1999-04-21</td>\n",
       "      <td>seb_derm</td>\n",
       "    </tr>\n",
       "    <tr>\n",
       "      <th>58537</th>\n",
       "      <td>1095843</td>\n",
       "      <td>1999-04-08</td>\n",
       "      <td>dermatitis</td>\n",
       "    </tr>\n",
       "    <tr>\n",
       "      <th>58538</th>\n",
       "      <td>1095843</td>\n",
       "      <td>2004-10-06</td>\n",
       "      <td>alcohol_depend</td>\n",
       "    </tr>\n",
       "    <tr>\n",
       "      <th>58539</th>\n",
       "      <td>1095843</td>\n",
       "      <td>2004-10-06</td>\n",
       "      <td>allergic_rhinitis</td>\n",
       "    </tr>\n",
       "    <tr>\n",
       "      <th>58540</th>\n",
       "      <td>1095843</td>\n",
       "      <td>2037-07-07</td>\n",
       "      <td>dermatitis</td>\n",
       "    </tr>\n",
       "  </tbody>\n",
       "</table>\n",
       "</div>"
      ],
      "text/plain": [
       "       patient_id event_date                LTC_abbrev\n",
       "58532     1095843 1989-07-03            alcohol_depend\n",
       "58533     1095843 1992-06-02                  seb_derm\n",
       "58534     1095843 1992-05-13                  seb_derm\n",
       "58535     1095843 1998-06-05  irritable_bowel_syndrome\n",
       "58536     1095843 1999-04-21                  seb_derm\n",
       "58537     1095843 1999-04-08                dermatitis\n",
       "58538     1095843 2004-10-06            alcohol_depend\n",
       "58539     1095843 2004-10-06         allergic_rhinitis\n",
       "58540     1095843 2037-07-07                dermatitis"
      ]
     },
     "execution_count": 12,
     "metadata": {},
     "output_type": "execute_result"
    }
   ],
   "source": [
    "ltc_patients.loc[ltc_patients['patient_id'] == 1095843]"
   ]
  },
  {
   "cell_type": "code",
   "execution_count": 16,
   "id": "f6e8729c",
   "metadata": {
    "scrolled": true
   },
   "outputs": [
    {
     "name": "stdout",
     "output_type": "stream",
     "text": [
      "5 equidistant time points: [1989. 2001. 2013. 2025. 2037.]\n",
      "Date of first recorded diagnosis: 1989-07-03\n",
      "Date of last recorded diagnosis: 2037\n",
      "Length of entire timeline: 48\n",
      "Example of split timeline: ['1989-07-03', '2001-07-03', '2013-07-03', '2025-07-03', '2037-07-07']\n"
     ]
    }
   ],
   "source": [
    "#date_parser=lambda x: pd.to_datetime(x, format='%d/%m/%Y')\n",
    "#range(date.year, date1.year,(date1.year-date.year)/5)\n",
    "\n",
    "date1 = ltc_patients.loc[58532, 'event_date'].date()\n",
    "date2 = ltc_patients.loc[58540, 'event_date'].date()\n",
    "\n",
    "\n",
    "f = [(date1 + relativedelta(years=round(i)-date1.year)).strftime(\"%Y-%m-%d\") for i in np.linspace(date1.year, date2.year, 5)]\n",
    "f.pop()\n",
    "f.append((date2).strftime(\"%Y-%m-%d\"))\n",
    "#print(*range(date1.year, date2.year,int((date2.year-date1.year)/5)))\n",
    "print(\"5 equidistant time points: {n}\".format(n = np.linspace(date1.year, date2.year, 5)))\n",
    "print(\"Date of first recorded diagnosis: {t1}\".format(t1 = date1))\n",
    "print(\"Date of last recorded diagnosis: {t2}\".format(t2 = date2.year))\n",
    "print(\"Length of entire timeline: {tm}\".format(tm = date2.year-date1.year))\n",
    "print(\"Example of split timeline: {ts}\".format(ts = f))"
   ]
  },
  {
   "cell_type": "code",
   "execution_count": 23,
   "id": "25d67bae",
   "metadata": {},
   "outputs": [
    {
     "name": "stdout",
     "output_type": "stream",
     "text": [
      "2037-07-07\n"
     ]
    }
   ],
   "source": [
    "if date2 > datetime.now().date():\n",
    "    print(date2)"
   ]
  },
  {
   "cell_type": "code",
   "execution_count": 24,
   "id": "cdafb932",
   "metadata": {},
   "outputs": [],
   "source": [
    "def keep_unique(list_n):\n",
    "    list_n = set(list_n)\n",
    "    list_n = list(list_n)\n",
    "    return list_n"
   ]
  },
  {
   "cell_type": "code",
   "execution_count": 25,
   "id": "6f83e397",
   "metadata": {},
   "outputs": [
    {
     "name": "stdout",
     "output_type": "stream",
     "text": [
      "Number of patients: 210211\n"
     ]
    },
    {
     "data": {
      "application/vnd.jupyter.widget-view+json": {
       "model_id": "87772a9b8d7f4257af4c38078b9aa7bc",
       "version_major": 2,
       "version_minor": 0
      },
      "text/plain": [
       "  0%|          | 0/210211 [00:00<?, ?it/s]"
      ]
     },
     "metadata": {},
     "output_type": "display_data"
    }
   ],
   "source": [
    "lop0 = [] # List of patient LTCs at time[0]\n",
    "lop1 = [] # List of patient LTCs before time[1]\n",
    "lop2 = [] # List of patient LTCs before time[2]\n",
    "lop3 = [] # List of patient LTCs before time[3]\n",
    "lop4 = [] # List of patient LTCs before time[4]\n",
    "\n",
    "patients = ltc_patients['patient_id'].unique()\n",
    "delta_t = 5\n",
    "\n",
    "print(\"Number of patients: {n}\".format(n=len(patients)))\n",
    "\n",
    "# For every unique patient\n",
    "for patient in tqdm(patients):\n",
    "    \n",
    "    temp = ltc_patients[ltc_patients['patient_id']==patient]\n",
    "\n",
    "    index = 0\n",
    "    patient_timeline = []\n",
    "    list0 = [] # List of patient LTCs at time[0]\n",
    "    list1 = [] # List of patient LTCs before time[1]\n",
    "    list2 = [] # List of patient LTCs before time[2]\n",
    "    list3 = [] # List of patient LTCs before time[3]\n",
    "    list4 = [] # List of patient LTCs before time[4]\n",
    "\n",
    "    for _, row in temp.iterrows():\n",
    "        \n",
    "        # Skip unless the patient_id = patient\n",
    "        if (row['patient_id'] != patient):\n",
    "            continue\n",
    "\n",
    "        else:\n",
    "            # Get the the date of the first and last diagnosis\n",
    "            if index == 0:\n",
    "                date1 = row['event_date'].date()\n",
    "                index+=1\n",
    "\n",
    "            else:\n",
    "                date2 = row['event_date'].date()\n",
    "                index+=1\n",
    "    if date2 <= datetime.now().date():\n",
    "        \n",
    "        patient_timeline = [(date1 + relativedelta(years=round(i)-date1.year)).strftime(\"%Y-%m-%d\") for i in np.linspace(date1.year, date2.year, 5)]\n",
    "        patient_timeline.pop()\n",
    "        patient_timeline.append((date2).strftime(\"%Y-%m-%d\"))\n",
    "\n",
    "        for _, row in temp.iterrows():\n",
    "\n",
    "                if (row['event_date'].strftime(\"%Y-%m-%d\")) == patient_timeline[0]:\n",
    "                    list0.append(row['LTC_abbrev'])\n",
    "\n",
    "                if (row['event_date'].strftime(\"%Y-%m-%d\")) <= patient_timeline[1]:\n",
    "                    list1.append(row['LTC_abbrev'])\n",
    "\n",
    "                if (row['event_date'].strftime(\"%Y-%m-%d\")) <= patient_timeline[2]:\n",
    "                    list2.append(row['LTC_abbrev'])\n",
    "\n",
    "                if (row['event_date'].strftime(\"%Y-%m-%d\")) <= patient_timeline[3]:\n",
    "                    list3.append(row['LTC_abbrev'])\n",
    "\n",
    "                if (row['event_date'].strftime(\"%Y-%m-%d\")) <= patient_timeline[4]:\n",
    "                    list4.append(row['LTC_abbrev'])\n",
    "    \n",
    "    list0 = keep_unique(list0)\n",
    "    list1 = keep_unique(list1)\n",
    "    list2 = keep_unique(list2)\n",
    "    list3 = keep_unique(list3)\n",
    "    list4 = keep_unique(list4)\n",
    "    \n",
    "    if len(list4) >= 4:\n",
    "        lop0.append(list0)\n",
    "        lop1.append(list1)\n",
    "        lop2.append(list2)\n",
    "        lop3.append(list3)\n",
    "        lop4.append(list4)\n"
   ]
  },
  {
   "cell_type": "code",
   "execution_count": 26,
   "id": "9a5fe5c5",
   "metadata": {},
   "outputs": [
    {
     "name": "stdout",
     "output_type": "stream",
     "text": [
      "142490\n",
      "142490\n",
      "142490\n",
      "142490\n",
      "142490\n"
     ]
    }
   ],
   "source": [
    "\n",
    "\n",
    "pp.pprint(len(lop0))\n",
    "pp.pprint(len(lop1))\n",
    "pp.pprint(len(lop2))\n",
    "pp.pprint(len(lop3))\n",
    "pp.pprint(len(lop4))"
   ]
  },
  {
   "cell_type": "code",
   "execution_count": 31,
   "id": "ce4f3f0d",
   "metadata": {},
   "outputs": [
    {
     "name": "stdout",
     "output_type": "stream",
     "text": [
      "All words: 1096631\n",
      "Average LTCs per patient: 7.6961962242964415\n",
      "Maximum amount of LTCs: 37\n",
      "Patients in corpus: 142490\n",
      "Example of patient record at t1:\n",
      " ['cystic_renal']\n",
      "Example of patient record at t3:\n",
      " ['hypertension', 'gout', 'ESRD', 'allergic_rhinitis', 'enthesopathy', 'cystic_renal']\n",
      "Example of patient record at t5:\n",
      " ['CKD', 'hypertension', 'gout', 'cholelithiasis', 'ESRD', 'hearing_loss', 'thyroid', 'atrial_fibrilation', 'allergic_rhinitis', 'epilepsy', 'pri_skin', 'enthesopathy', 'pri_other', 'cystic_renal', 'venous_thromb']\n"
     ]
    }
   ],
   "source": [
    "all_len = 0\n",
    "\n",
    "for text in lop4:\n",
    "    all_len += len(text)\n",
    "    \n",
    "avg_len = all_len/len(lop4)\n",
    "\n",
    "print(\"All words: {n}\".format(n=all_len))\n",
    "print(\"Average LTCs per patient: {n}\".format(n=avg_len))\n",
    "print(\"Maximum amount of LTCs: {n}\".format(n= max(len(x) for x in lop4)))\n",
    "print(\"Patients in corpus: {l}\".format(l=len(lop4)))\n",
    "print(\"Example of patient record at t1:\\n {n}\".format(n=lop0[2]))\n",
    "print(\"Example of patient record at t3:\\n {n}\".format(n=lop2[2]))\n",
    "print(\"Example of patient record at t5:\\n {n}\".format(n=lop4[2]))\n"
   ]
  },
  {
   "cell_type": "code",
   "execution_count": 29,
   "id": "dabca43a",
   "metadata": {},
   "outputs": [
    {
     "data": {
      "image/png": "[encoded data removed]",
      "text/plain": [
       "<Figure size 1200x720 with 1 Axes>"
      ]
     },
     "metadata": {
      "needs_background": "light"
     },
     "output_type": "display_data"
    }
   ],
   "source": [
    "doc_lens = [len(d) for d in lop4]\n",
    "\n",
    "# Plot\n",
    "plt.figure(figsize=(10,6), dpi=120)\n",
    "plt.hist(doc_lens, bins = 100, color='navy')\n",
    "plt.text(25, 20000, \"Mean   : \" + str(round(np.mean(doc_lens))))\n",
    "plt.text(25,  19000, \"Median : \" + str(round(np.median(doc_lens))))\n",
    "plt.text(25,  18000, \"Stdev   : \" + str(round(np.std(doc_lens))))\n",
    "plt.text(25,  17000, \"1%ile    : \" + str(round(np.quantile(doc_lens, q=0.01))))\n",
    "plt.text(25,  16000, \"99%ile  : \" + str(round(np.quantile(doc_lens, q=0.99))))\n",
    "\n",
    "plt.gca().set(xlim=(0, 40), ylabel='Number of Documents', xlabel='Document Word Count')\n",
    "plt.tick_params(size=12)\n",
    "plt.xticks(np.linspace(0,40,9))\n",
    "plt.title('Distribution of Document Word Counts', fontdict=dict(size=16))\n",
    "plt.show()"
   ]
  },
  {
   "cell_type": "code",
   "execution_count": null,
   "id": "70064d1b",
   "metadata": {},
   "outputs": [],
   "source": [
    "def find_dominant_topics(ldamodel=None, corpus=corpus, texts=list_of_patients):\n",
    "    \n",
    "    dom_topics = pd.DataFrame()\n",
    "\n",
    "    # Get main topic for each patient\n",
    "    for i, row_list in enumerate(ldamodel[corpus]):\n",
    "        \n",
    "        if ldamodel.per_word_topics:\n",
    "            row = row_list[0]\n",
    "        else:\n",
    "            row = row_list\n",
    "        #print(row)\n",
    "        \n",
    "        row = sorted(row, key=lambda x: (x[1]), reverse=True)\n",
    "        \n",
    "        # Get the Dominant topic, Perc Contribution and Keywords for each patient\n",
    "        for j, (topic_num, prop_topic) in enumerate(row):\n",
    "            \n",
    "            # If dominant topic\n",
    "            if j == 0:\n",
    "                \n",
    "                wp = ldamodel.show_topic(topic_num)\n",
    "                \n",
    "                topic_keywords = \", \".join([word for word, prop in wp])\n",
    "                \n",
    "                dom_topics = dom_topics.append(pd.Series([int(topic_num), round(prop_topic,4), topic_keywords]), ignore_index=True)\n",
    "            else:\n",
    "                break\n",
    "                \n",
    "    dom_topics.columns = ['Dominant_Topic', 'Perc_Contribution', 'Topic_Keywords']\n",
    "\n",
    "    # Add original patient record to the end of the output\n",
    "    contents = pd.Series(texts)\n",
    "    dom_topics = pd.concat([dom_topics, contents], axis=1)\n",
    "    \n",
    "    return dom_topics\n",
    "\n",
    "\n",
    "temp = find_dominant_topics(ldamodel=lda_model, corpus=corpus, texts=list_of_patients)\n",
    "\n",
    "# Format\n",
    "dominant_patient_topics = temp.reset_index()\n",
    "dominant_patient_topics.columns = ['Document_No', 'Dominant_Topic', 'Topic_Perc_Contrib', 'Keywords', 'Text']\n",
    "dominant_patient_topics.head(10)"
   ]
  },
  {
   "cell_type": "code",
   "execution_count": null,
   "id": "77e62196",
   "metadata": {},
   "outputs": [],
   "source": []
  },
  {
   "cell_type": "code",
   "execution_count": null,
   "id": "67ba1a81",
   "metadata": {},
   "outputs": [],
   "source": []
  },
  {
   "cell_type": "code",
   "execution_count": null,
   "id": "f7fc922d",
   "metadata": {},
   "outputs": [],
   "source": []
  },
  {
   "cell_type": "code",
   "execution_count": null,
   "id": "bb66707b",
   "metadata": {},
   "outputs": [],
   "source": []
  }
 ],
 "metadata": {
  "kernelspec": {
   "display_name": "Python 3 (ipykernel)",
   "language": "python",
   "name": "python3"
  },
  "language_info": {
   "codemirror_mode": {
    "name": "ipython",
    "version": 3
   },
   "file_extension": ".py",
   "mimetype": "text/x-python",
   "name": "python",
   "nbconvert_exporter": "python",
   "pygments_lexer": "ipython3",
   "version": "3.8.5"
  }
 },
 "nbformat": 4,
 "nbformat_minor": 5
}
