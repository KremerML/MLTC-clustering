{
 "cells": [
  {
   "cell_type": "code",
   "execution_count": null,
   "id": "6bff6f87",
   "metadata": {},
   "outputs": [],
   "source": [
    "import pandas as pd\n",
    "import numpy as np\n",
    "from matplotlib import pyplot as plt\n",
    "from wordcloud import WordCloud\n",
    "import matplotlib.colors as mcolors\n",
    "\n",
    "# Gensim\n",
    "import gensim\n",
    "import gensim.corpora as corpora\n",
    "from gensim.utils import simple_preprocess\n",
    "from gensim.models import CoherenceModel\n",
    "\n",
    "# t-SNE and Bokeh vis\n",
    "from sklearn.manifold import TSNE\n",
    "from bokeh.plotting import figure, output_file, show\n",
    "from bokeh.models import Label\n",
    "from bokeh.io import output_notebook\n",
    "\n",
    "# pyLDAvis\n",
    "import pyLDAvis\n",
    "import pyLDAvis.gensim_models\n",
    "\n",
    "\n",
    "import warnings\n",
    "warnings.filterwarnings(\"ignore\", category=DeprecationWarning)\n",
    "\n",
    "import pprint\n",
    "pp = pprint.PrettyPrinter(indent=4)"
   ]
  },
  {
   "cell_type": "code",
   "execution_count": null,
   "id": "285d4b89",
   "metadata": {},
   "outputs": [],
   "source": [
    "LTC_BINARY = '../data/ltc_matrices/ltc_matrix_binary_mm4.tsv'\n",
    "\n",
    "ltc_patients = pd.read_csv(LTC_BINARY, sep = '\\t')\n",
    "\n",
    "ltc_patients.head(5)"
   ]
  },
  {
   "cell_type": "code",
   "execution_count": null,
   "id": "29459391",
   "metadata": {},
   "outputs": [],
   "source": [
    "list_of_patients = []\n",
    "\n",
    "patients = ltc_patients['patient_id'].unique()\n",
    "ltcs = ltc_patients.drop('patient_id', axis = 1)\n",
    "index = 0\n",
    "\n",
    "# Iterate through patients\n",
    "for patient in patients:\n",
    "    \n",
    "    # Start with empty list of LTCs for each patient\n",
    "    patient_ltcs = []\n",
    "    \n",
    "    # Iterate through each LTC for patient\n",
    "    for ltc in ltcs:\n",
    "        \n",
    "        # Check if patient has LTC\n",
    "        if ltc_patients.at[index, ltc] == 1:\n",
    "            \n",
    "            # If LTC present, add to list of patient LTCs\n",
    "            patient_ltcs.append(ltc)   \n",
    "    \n",
    "    # Add list of patient LTCs to list of patients        \n",
    "    list_of_patients.append(patient_ltcs)\n",
    "    \n",
    "    # Increment index by 1\n",
    "    index+=1"
   ]
  },
  {
   "cell_type": "code",
   "execution_count": null,
   "id": "6222a273",
   "metadata": {},
   "outputs": [],
   "source": []
  }
 ],
 "metadata": {
  "kernelspec": {
   "display_name": "Python 3 (ipykernel)",
   "language": "python",
   "name": "python3"
  },
  "language_info": {
   "codemirror_mode": {
    "name": "ipython",
    "version": 3
   },
   "file_extension": ".py",
   "mimetype": "text/x-python",
   "name": "python",
   "nbconvert_exporter": "python",
   "pygments_lexer": "ipython3",
   "version": "3.8.5"
  }
 },
 "nbformat": 4,
 "nbformat_minor": 5
}
